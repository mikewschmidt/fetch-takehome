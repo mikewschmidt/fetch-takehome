{
 "cells": [
  {
   "cell_type": "code",
   "execution_count": 6,
   "metadata": {},
   "outputs": [],
   "source": [
    "import boto3\n",
    "import json\n",
    "from datetime import datetime\n",
    "import hashlib\n",
    "import psycopg2"
   ]
  },
  {
   "cell_type": "code",
   "execution_count": 7,
   "metadata": {},
   "outputs": [],
   "source": [
    "###  FUNCTIONS  ###\n",
    "def convert_messages(messages: list) -> list:\n",
    "    \"\"\"A list of strings from SQS to dict and hashes PII  and returns a list of dictionaries\n",
    "            \n",
    "        Use this function to pass in the response json/dictionary object,\n",
    "        so it can extract the correct data and hash mask two PII data points: \"device_id\" and \"ip\".\n",
    "    \"\"\"\n",
    "    date = datetime.datetime.now()\n",
    "    l_messages = []\n",
    "    for message in messages:\n",
    "        body = json.loads(message.body)\n",
    "        # Check for a user_id key, delete and continue if None\n",
    "        if body.get('user_id') == None:\n",
    "            message.delete()\n",
    "            continue\n",
    "        body['create_date'] = date\n",
    "        body['device_id'] = hashlib.sha3_256(body['device_id'].encode()).hexdigest()\n",
    "        body['ip'] = hashlib.sha3_256(body['ip'].encode()).hexdigest()\n",
    "        body['receipt_handle'] = message.receipt_handle\n",
    "        l_messages.append(body)\n",
    "        print(body)\n",
    "    \n",
    "    return l_messages\n",
    "\n",
    "\n",
    "def mask(pii: str) -> str:\n",
    "    \"\"\"Hashes and returns string. To mask PII (Personally Identifiable Information)\"\"\"\n",
    "    return hashlib.sha3_256(pii.encode()).hexdigest()\n",
    "\n",
    "\n",
    "def db_execute_statement(sql_statement: str):\n",
    "    \"\"\"Makes a connection to the database and executes the input SQL statement.\"\"\"\n",
    "    \n",
    "    try:\n",
    "        conn = psycopg2.connect(\n",
    "            database=\"postgres\",\n",
    "            host=\"localhost\",\n",
    "            user=\"postgres\",\n",
    "            password=\"postgres\",\n",
    "            port='5432'\n",
    "        )\n",
    "    except(Exception) as e:\n",
    "        print(\"ERROR! Connecting to the database. \", e)\n",
    "\n",
    "    try:\n",
    "        with conn.cursor() as cur:\n",
    "            cur.execute(sql_statement)\n",
    "            output = None\n",
    "            conn.commit()\n",
    "    \n",
    "    except(Exception, psycopg2.DatabaseError) as e:\n",
    "        print(\"ERROR! There was a problem with executing the SQL statement: \", e)\n",
    "        output = e\n",
    "\n",
    "    finally:\n",
    "        conn.close()\n",
    "        return output\n",
    "    \n",
    "\n",
    "def db_insert_messages(l_messages: list):\n",
    "    \"\"\" Inserts all the messages into the database.\n",
    "        Loops through all the messages inserts one at a time \n",
    "        and masks the PII columns.\n",
    "        Returns nothing.\n",
    "    \"\"\"\n",
    "    if not l_messages or len(l_messages) == 0:\n",
    "        print(\"Messages is empty, can not insert anything into the database\")\n",
    "        return\n",
    "    \n",
    "    for message in l_messages:\n",
    "        body = json.loads(message.body)\n",
    "        print(body)\n",
    "        # Check for a user_id key, skipping if None\n",
    "        if body.get('user_id') == None:\n",
    "            continue\n",
    "\n",
    "        insert = f\"\"\"\n",
    "            INSERT INTO public.user_logins(user_id, device_type, masked_ip, masked_device_id, locale, app_version, create_date)\n",
    "            VALUES ('{body.get('user_id')}', \n",
    "                    '{body.get('device_type')}', \n",
    "                    '{mask(body.get('ip'))}',\n",
    "                    '{mask(body.get('device_id'))}', \n",
    "                    '{body.get('locale')}',\n",
    "                    '{body.get('app_version')}', \n",
    "                    '{datetime.now()}');\n",
    "            \"\"\"\n",
    "        # If something returns then there is an issue\n",
    "        if not db_execute_statement(insert):\n",
    "            message.delete()\n",
    "        else:\n",
    "            print(\"Something bad happened when inserting into the database\")\n",
    "    "
   ]
  },
  {
   "cell_type": "code",
   "execution_count": 8,
   "metadata": {},
   "outputs": [],
   "source": [
    "# Alter the table, because the application version uses the format 1.2.3, which is not a number.\n",
    "statement = \"ALTER TABLE user_logins ALTER COLUMN app_version TYPE varchar(10);\"\n",
    "db_execute_statement(statement)"
   ]
  },
  {
   "cell_type": "code",
   "execution_count": 9,
   "metadata": {},
   "outputs": [],
   "source": [
    "# Creating the SQS and queue objects\n",
    "sqs = boto3.resource(\n",
    "    'sqs', \n",
    "    endpoint_url='http://localhost:4566', \n",
    "    region_name=\"us-east-1\", \n",
    "    aws_access_key_id=\"access_key_id\", \n",
    "    aws_secret_access_key=\"secret\"\n",
    "    )\n",
    "queue = sqs.get_queue_by_name(QueueName='login-queue')"
   ]
  },
  {
   "cell_type": "code",
   "execution_count": 72,
   "metadata": {},
   "outputs": [
    {
     "name": "stdout",
     "output_type": "stream",
     "text": [
      "{'foo': 'oops_wrong_msg_type', 'bar': '123'}\n",
      "1\n"
     ]
    }
   ],
   "source": [
    "### PROCESS ALL THE MESSAGES FROM THE QUEUE ###\n",
    "messages = queue.receive_messages(MaxNumberOfMessages=10, WaitTimeSeconds=1, VisibilityTimeout=20)\n",
    "\n",
    "count = 0\n",
    "while len(messages) > 0:\n",
    "    count += len(messages)\n",
    "    # Inserts the messages into the database\n",
    "    db_insert_messages(messages)\n",
    "    messages = queue.receive_messages(MaxNumberOfMessages=10, WaitTimeSeconds=1, VisibilityTimeout=20)\n",
    "\n",
    "print(count)"
   ]
  }
 ],
 "metadata": {
  "kernelspec": {
   "display_name": "Python 3",
   "language": "python",
   "name": "python3"
  },
  "language_info": {
   "codemirror_mode": {
    "name": "ipython",
    "version": 3
   },
   "file_extension": ".py",
   "mimetype": "text/x-python",
   "name": "python",
   "nbconvert_exporter": "python",
   "pygments_lexer": "ipython3",
   "version": "3.10.10"
  },
  "orig_nbformat": 4
 },
 "nbformat": 4,
 "nbformat_minor": 2
}
